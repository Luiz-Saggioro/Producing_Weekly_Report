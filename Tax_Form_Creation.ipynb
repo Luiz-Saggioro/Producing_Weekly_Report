{
 "cells": [
  {
   "cell_type": "markdown",
   "id": "b4c3ca59-9703-4d76-9a38-4dd849f07493",
   "metadata": {},
   "source": [
    "# **Pogram made to build alto report for taxes**"
   ]
  },
  {
   "cell_type": "markdown",
   "id": "f9c40bd9-fa95-4119-94e3-273112b852f2",
   "metadata": {},
   "source": [
    "## *Import list*"
   ]
  },
  {
   "cell_type": "code",
   "execution_count": 2,
   "id": "7553c227-07af-40a9-8d35-c3e8be13ca22",
   "metadata": {},
   "outputs": [],
   "source": [
    "import tkinter as tk\n",
    "from tkinter import filedialog\n",
    "from tkinter import messagebox\n",
    "import pandas as pd\n",
    "from fpdf import FPDF\n",
    "from PIL import Image"
   ]
  },
  {
   "cell_type": "markdown",
   "id": "e56638d1-ce13-4789-93dc-461b4939985c",
   "metadata": {},
   "source": [
    "## *Reading the data from excel*"
   ]
  },
  {
   "cell_type": "code",
   "execution_count": 19,
   "id": "0edb0ab5-add4-4597-bfc7-2813c525d12a",
   "metadata": {},
   "outputs": [
    {
     "name": "stdin",
     "output_type": "stream",
     "text": [
      "What year are these taxes from?  2023\n",
      "Complete name of the person (as in transactions):  ee\n"
     ]
    }
   ],
   "source": [
    "#Read Excel file from the bank\n",
    "year = input(\"What year are these taxes from? \")\n",
    "while len(year) != 4:\n",
    "    year = input(\"What year are these taxes from? \")\n",
    "year = int(year)\n",
    "name = input(\"Complete name of the person (as in transactions): \")\n",
    "root = tk.Tk()\n",
    "root.withdraw()\n",
    "file_path = filedialog.askopenfilename(title=\"Select Excel Document\", filetypes=[(\"Excel files\", \"*.csv\")])\n",
    "if file_path:\n",
    "    try:\n",
    "        data = pd.read_csv(file_path)\n",
    "    except pd.errors.ParserError:\n",
    "        data = pd.read_csv(file_path, skiprows=6)\n",
    "    data[\"Date\"] = pd.to_datetime(data[\"Date\"])\n",
    "    data[\"Amount\"] = pd.to_numeric(data[\"Amount\"], errors='coerce')\n",
    "    data = data.dropna(subset=[\"Amount\"])"
   ]
  },
  {
   "cell_type": "code",
   "execution_count": 98,
   "id": "07a1cf58-7f28-450f-9482-8a8dc4bfe007",
   "metadata": {},
   "outputs": [
    {
     "name": "stdout",
     "output_type": "stream",
     "text": [
      "150.0\n"
     ]
    }
   ],
   "source": [
    "#Define the amount donated to the organization\n",
    "Donation = 0\n",
    "for index, row in data.iterrows():\n",
    "    if name.upper() in row[\"Description\"].upper():\n",
    "        Donation += row[\"Amount\"]\n",
    "print(Donation)"
   ]
  },
  {
   "cell_type": "markdown",
   "id": "d6280f1d-dda8-4248-83fa-2ea5732ae687",
   "metadata": {},
   "source": [
    "## *Enter into PDF*"
   ]
  },
  {
   "cell_type": "code",
   "execution_count": 125,
   "id": "01b6f898-7db1-40af-8cc2-e8f43d7cdbd2",
   "metadata": {},
   "outputs": [],
   "source": [
    "#Open PDF file\n",
    "pdf = FPDF()\n",
    "pdf.add_page()\n",
    "pdf.set_font(\"Arial\")"
   ]
  },
  {
   "cell_type": "code",
   "execution_count": 126,
   "id": "96991016-2155-4530-bd16-14679caaa276",
   "metadata": {},
   "outputs": [
    {
     "name": "stdout",
     "output_type": "stream",
     "text": [
      "Taxes printed\n"
     ]
    }
   ],
   "source": [
    "#Insertting the data into the PDF as well as the template\n",
    "file_path = filedialog.askopenfilename(title=\"Select pdf template\", filetypes=[(\"png files\", \"*.png\")])\n",
    "if file_path:\n",
    "    page_height = pdf.h\n",
    "    page_width = pdf.w\n",
    "    with Image.open(file_path) as img:\n",
    "        image_width, image_height = img.size\n",
    "        scale_factor = min(page_width / image_width, page_height / image_height)\n",
    "        scaled_width = image_width*scale_factor\n",
    "        scaled_height = image_height*scale_factor\n",
    "        x = (page_width - scaled_width)/2\n",
    "        y = (page_height - scaled_height)/2\n",
    "        pdf.image(file_path, x=x, y=y, w=scaled_width, h=scaled_height)\n",
    "    pdf.text(85, 146, f\"{Donation}\")\n",
    "    pdf.text(49, 86, f\"{year}\")\n",
    "    pdf.text(42, 96, f\"{name}\")\n",
    "    pdf.set_font(\"Arial\", size=10)\n",
    "    pdf.text(48, 136, f\"{year-1}\")\n",
    "    pdf.text(72, 136, f\"{year-1}\")\n",
    "    pdf.output(\"project2.pdf\")\n",
    "    print(\"Taxes printed\")"
   ]
  }
 ],
 "metadata": {
  "kernelspec": {
   "display_name": "Python 3 (ipykernel)",
   "language": "python",
   "name": "python3"
  },
  "language_info": {
   "codemirror_mode": {
    "name": "ipython",
    "version": 3
   },
   "file_extension": ".py",
   "mimetype": "text/x-python",
   "name": "python",
   "nbconvert_exporter": "python",
   "pygments_lexer": "ipython3",
   "version": "3.11.7"
  }
 },
 "nbformat": 4,
 "nbformat_minor": 5
}
