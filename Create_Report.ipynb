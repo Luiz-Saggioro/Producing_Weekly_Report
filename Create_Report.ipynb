{
 "cells": [
  {
   "cell_type": "markdown",
   "id": "f990f1a4-fbed-4bcb-99fa-c49164e5135b",
   "metadata": {},
   "source": [
    "# Creating Report For Financial Ministry"
   ]
  },
  {
   "cell_type": "markdown",
   "id": "0f3eb023-081c-4349-807d-1cdbb808b33a",
   "metadata": {},
   "source": [
    "## Read Data"
   ]
  },
  {
   "cell_type": "code",
   "execution_count": null,
   "id": "e9b031fd-d676-4373-a1e6-53e3df09f681",
   "metadata": {},
   "outputs": [],
   "source": [
    "!pip install python-docx\n",
    "!pip list"
   ]
  },
  {
   "cell_type": "code",
   "execution_count": 2,
   "id": "9a4432ad-b975-43c9-b651-5730bed1cbe4",
   "metadata": {},
   "outputs": [],
   "source": [
    "import tkinter as tk\n",
    "from tkinter import filedialog\n",
    "from tkinter import messagebox\n",
    "from docx import Document\n",
    "import pandas as pd"
   ]
  },
  {
   "cell_type": "code",
   "execution_count": 6,
   "id": "c04aa916-fc4e-49f2-a05b-fabd8e5a8e36",
   "metadata": {},
   "outputs": [],
   "source": [
    "#Receives the data from an excel file in the format provided by the bank of the week's transactions\n",
    "root = tk.Tk()\n",
    "root.withdraw()\n",
    "file_path = filedialog.askopenfilename(title=\"Select Excel Document\", filetypes=[(\"Excel files\", \"*.csv\")])\n",
    "try:\n",
    "    data = pd.read_csv(file_path)\n",
    "except pd.errors.ParserError:\n",
    "    data = pd.read_csv(file_path, skiprows=6)\n",
    "data[\"Date\"] = pd.to_datetime(data[\"Date\"])\n",
    "data[\"Amount\"] = pd.to_numeric(data[\"Amount\"], errors='coerce')\n",
    "data = data.dropna(subset=[\"Amount\"])\n",
    "print(data)"
   ]
  },
  {
   "cell_type": "code",
   "execution_count": 8,
   "id": "e3f73dc3-0f4a-4cf8-a717-fc98d653064c",
   "metadata": {},
   "outputs": [],
   "source": [
    "#Makes the calculation of the amounts received, spent, and the total\n",
    "Income = 0\n",
    "Expense = 0\n",
    "Big_Income = {}\n",
    "Big_Expense = {}\n",
    "start_date = data[\"Date\"].iloc[0].strftime('%m/%d')\n",
    "end_date = data[\"Date\"].iloc[-1].strftime('%m/%d')\n",
    "for index, row in data.iterrows():\n",
    "    if row[\"Amount\"] > 0:\n",
    "        Income += row[\"Amount\"]\n",
    "        if row[\"Amount\"] > 100:\n",
    "            Big_Income[row[\"Description\"]] = round(row[\"Amount\"],2)\n",
    "    elif row[\"Amount\"] < 0:\n",
    "        Expense += row[\"Amount\"]\n",
    "        if row[\"Amount\"] < -100:\n",
    "            Big_Expense[row[\"Description\"]] = round(row[\"Amount\"],2)\n",
    "Income = round(Income, 2)\n",
    "Expense = round(Expense, 2)\n",
    "Total = Income + Expense\n",
    "big_income_str = '\\n        '.join([f'{key}: ${value:.2f}' for key, value in Big_Income.items()])\n",
    "big_expense_str = '\\n       '.join([f'{key}: ${value:.2f}' for key, value in Big_Expense.items()])\n",
    "\n",
    "#Sets the info into a string to be written into a Word document\n",
    "str_Report = f\"\"\"{start_date}-{end_date}\n",
    "\n",
    "Credits: ${Income:.2f}\n",
    "    {big_income_str}\n",
    "Debits: ${Expense:.2f}\n",
    "    {big_expense_str}\n",
    "TOTAL: {Total}\"\"\"\n",
    "print(str_Report)"
   ]
  },
  {
   "cell_type": "code",
   "execution_count": 9,
   "id": "aaa937d4-be99-41ee-861f-aa115aae655d",
   "metadata": {},
   "outputs": [],
   "source": [
    "#Writes the string of the report into the chosen Word file\n",
    "root = tk.Tk()\n",
    "root.withdraw()\n",
    "try:\n",
    "    existing_doc_path = filedialog.askopenfilename(title=\"Select existing Word document\", filetypes=[(\"Word files\", \"*.docx\")])\n",
    "    doc = Document(existing_doc_path)\n",
    "    doc.add_paragraph(str_Report)\n",
    "    doc.save(existing_doc_path)\n",
    "except:\n",
    "    messagebox.showinfo(\"Information\",\"No File was selected\")"
   ]
  }
 ],
 "metadata": {
  "kernelspec": {
   "display_name": "Python 3 (ipykernel)",
   "language": "python",
   "name": "python3"
  },
  "language_info": {
   "codemirror_mode": {
    "name": "ipython",
    "version": 3
   },
   "file_extension": ".py",
   "mimetype": "text/x-python",
   "name": "python",
   "nbconvert_exporter": "python",
   "pygments_lexer": "ipython3",
   "version": "3.11.7"
  }
 },
 "nbformat": 4,
 "nbformat_minor": 5
}
