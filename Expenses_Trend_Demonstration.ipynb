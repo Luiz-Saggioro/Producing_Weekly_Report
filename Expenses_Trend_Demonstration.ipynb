{
 "cells": [
  {
   "cell_type": "markdown",
   "id": "b214e634-8150-4792-be6d-9bc4643861b5",
   "metadata": {},
   "source": [
    "# AI to Foresee Trends"
   ]
  },
  {
   "cell_type": "markdown",
   "id": "ca4de969-6a59-4aa7-b51f-7c80a3257eb1",
   "metadata": {},
   "source": [
    "## Installing and Importing Necessary Prerequesites"
   ]
  },
  {
   "cell_type": "code",
   "execution_count": null,
   "id": "ce1db8f1-a021-4461-84c8-3d988993aafa",
   "metadata": {},
   "outputs": [],
   "source": [
    "!pip install prophet"
   ]
  },
  {
   "cell_type": "code",
   "execution_count": null,
   "id": "1b571e0c-5076-45f4-bfe1-df1f3abb989b",
   "metadata": {},
   "outputs": [],
   "source": [
    "import tkinter as tk\n",
    "from tkinter import filedialog\n",
    "import pandas as pd\n",
    "from prophet import Prophet\n",
    "from prophet.plot import plot_plotly"
   ]
  },
  {
   "cell_type": "markdown",
   "id": "273bb7d8-a6b8-4456-a4ba-8f52354f9f46",
   "metadata": {},
   "source": [
    "## Treating Data"
   ]
  },
  {
   "cell_type": "code",
   "execution_count": null,
   "id": "264680a7-3545-4883-a7b6-7df70d947653",
   "metadata": {},
   "outputs": [],
   "source": [
    "#Asks the user to select the file from the bank with the desired time period to be used as base\n",
    "file_path = filedialog.askopenfilename(title=\"Select Excel Document\", filetypes=[(\"Excel files\", \"*.csv\")])\n",
    "try:\n",
    "    data = pd.read_csv(file_path)\n",
    "except pd.errors.ParserError:\n",
    "    data = pd.read_csv(file_path, skiprows=6)\n",
    "unnamed_columns = [col for col in data.columns if col.startswith(\"Unnamed:\")]\n",
    "data = data.drop(unnamed_columns, axis=1)\n",
    "data[\"Date\"] = pd.to_datetime(data[\"Date\"])\n",
    "data"
   ]
  },
  {
   "cell_type": "code",
   "execution_count": null,
   "id": "ee348ef7-2f0b-4dbc-aa2c-4b8cbdbd81dd",
   "metadata": {},
   "outputs": [],
   "source": [
    "#Sets the training data\n",
    "training = data.reset_index()\n",
    "training = training[[\"Date\", \"Amount\"]]\n",
    "training.columns = [\"ds\", \"y\"]\n",
    "training = training[pd.to_numeric(training[\"y\"], errors=\"coerce\").notnull()]\n",
    "training"
   ]
  },
  {
   "cell_type": "markdown",
   "id": "d29050b4-71c8-49be-bd0d-388c233d2372",
   "metadata": {},
   "source": [
    "## Creating the Model"
   ]
  },
  {
   "cell_type": "code",
   "execution_count": null,
   "id": "116ff787-cfcf-4dc3-8e4d-c93c5b88dfad",
   "metadata": {},
   "outputs": [],
   "source": [
    "#Calls the function Prophet into the model\n",
    "model = Prophet()\n",
    "model.fit(training)"
   ]
  },
  {
   "cell_type": "markdown",
   "id": "f20856b7-6cc9-478c-883d-a6bfeb27e5ec",
   "metadata": {},
   "source": [
    "## Making Previsions"
   ]
  },
  {
   "cell_type": "code",
   "execution_count": null,
   "id": "25fe6e42-305b-4f3e-8e06-512e69c9c9dc",
   "metadata": {},
   "outputs": [],
   "source": [
    "#Sets future data entries to receive amount entries later\n",
    "future_dates = model.make_future_dataframe(60)\n",
    "future_dates"
   ]
  },
  {
   "cell_type": "markdown",
   "id": "4b797b20-7cdb-497f-bb73-c730be4f4127",
   "metadata": {},
   "source": [
    "## Generating Future Entries"
   ]
  },
  {
   "cell_type": "code",
   "execution_count": null,
   "id": "4586379a-5e1b-4245-8016-07efd1135d4f",
   "metadata": {},
   "outputs": [],
   "source": [
    "#Feeds the future dates with a prevision of the amount\n",
    "prevision = model.predict(future_dates)\n",
    "prevision.tail()"
   ]
  },
  {
   "cell_type": "code",
   "execution_count": null,
   "id": "10ca6ac9-9af7-4aa1-a28d-97d79971e3ca",
   "metadata": {},
   "outputs": [],
   "source": [
    "#Produces visualizations for the data to be tangible for the user \n",
    "grapth = plot_plotly(model, prevision)\n",
    "plot_plotly(model, prevision)"
   ]
  }
 ],
 "metadata": {
  "kernelspec": {
   "display_name": "Python 3 (ipykernel)",
   "language": "python",
   "name": "python3"
  },
  "language_info": {
   "codemirror_mode": {
    "name": "ipython",
    "version": 3
   },
   "file_extension": ".py",
   "mimetype": "text/x-python",
   "name": "python",
   "nbconvert_exporter": "python",
   "pygments_lexer": "ipython3",
   "version": "3.11.7"
  }
 },
 "nbformat": 4,
 "nbformat_minor": 5
}
